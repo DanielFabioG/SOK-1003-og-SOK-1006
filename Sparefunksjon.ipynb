{
 "cells": [
  {
   "cell_type": "code",
   "execution_count": 21,
   "id": "7bc3151b-5883-4a98-9196-e1ff95755331",
   "metadata": {},
   "outputs": [],
   "source": [
    "#Sparefunksjon som viser hvor mye et beløp vokser med en gitt rente\n",
    "def sparekonto(x,r,T,n):\n",
    "    return x*(1+r/n)**(T*n)"
   ]
  },
  {
   "cell_type": "code",
   "execution_count": 23,
   "id": "27494648-3aa7-4405-849f-a2256c73bf15",
   "metadata": {},
   "outputs": [
    {
     "name": "stdout",
     "output_type": "stream",
     "text": [
      "146279.33039937087\n"
     ]
    }
   ],
   "source": [
    "#Utregning av et beløp på 120000 hvor renten er 2% over 10 år --med mulighet for å legge til kvartal i året.\n",
    "print(sparekonto(120000,0.02,10,1))"
   ]
  },
  {
   "cell_type": "code",
   "execution_count": 25,
   "id": "e6f6c177-39cf-4129-8d7b-b56772573697",
   "metadata": {},
   "outputs": [
    {
     "name": "stdout",
     "output_type": "stream",
     "text": [
      "2488319.9999999995\n"
     ]
    }
   ],
   "source": [
    "#Utregning av et beløp på en million kroner hvor renten er 20% på over 5 år -- med mulighet for å legge til kvartal i året.\n",
    "print(sparekonto(1000000,0.2,5,1))"
   ]
  },
  {
   "cell_type": "code",
   "execution_count": 30,
   "id": "04515a02-9de7-42df-bf5e-593694f3b063",
   "metadata": {},
   "outputs": [
    {
     "name": "stdout",
     "output_type": "stream",
     "text": [
      "115200.0\n",
      "92800.0\n"
     ]
    }
   ],
   "source": [
    "#Utregning på min kryptovalutabeholdning med en rentesats på 28% og 16% hvor det ene beløpet er 90000kr og det andre 80000kr\n",
    "print(sparekonto(90000,0.28,1,1))\n",
    "print(sparekonto(80000,0.16,1,1))"
   ]
  }
 ],
 "metadata": {
  "kernelspec": {
   "display_name": "Python 3 (ipykernel)",
   "language": "python",
   "name": "python3"
  },
  "language_info": {
   "codemirror_mode": {
    "name": "ipython",
    "version": 3
   },
   "file_extension": ".py",
   "mimetype": "text/x-python",
   "name": "python",
   "nbconvert_exporter": "python",
   "pygments_lexer": "ipython3",
   "version": "3.9.13"
  }
 },
 "nbformat": 4,
 "nbformat_minor": 5
}
