{
 "cells": [
  {
   "attachments": {},
   "cell_type": "markdown",
   "metadata": {},
   "source": [
    "*Kapittel 1 - Innledning*\n",
    "\n",
    "Gi litt bakgrunn i dette kapitlet.         \n",
    "\n",
    "Du vil muligens komme inn på følgende:      \n",
    "- Hva menes med en turistskatt på overnattinger?\n",
    "- Hva er begrunnelsen for dens innføring?\n",
    "- Hvor utbredt er dette tiltaket i andre land/byer?\n",
    "- Hvilke erfaringer har man gjort med en turistskatt?\n",
    "\n",
    "Til slutt vil kapitlet forteller leseren om utredningens struktur."
   ]
  },
  {
   "attachments": {},
   "cell_type": "markdown",
   "metadata": {},
   "source": [
    "*Kandidatnummer* har fått i oppdrag av D.J. Clark å gjøre en samfunnsøkonomisk utredning av tiltak som kan gjøres for å innføre besøksbidrag for turisme. Det vi skal se videre på her er besøksbidrag i form av en turistskatt. Norge har i de siste tiårene opplevd en stor vekst i turisme, og regjeringen har gitt grønt lys for at kommuner kan innføre en turistskatt. Dette er en skatt som skal betales av overnattingsgjester i hoteller, leiligheter og lignende eller som betales i flybilletten til destinasjonen.\n",
    "\n",
    "Grunnen til å innføre en slik skatt er for å kunne verne miljøet i kommunene som får ekstra stor belastning og bruk på grunn av mye turisme. Turistskatt er en form for skatt som har vært innført allerede i flere andre land, og som idag brukes i for eksempel Nederland, Italia, Spania og Hellas.\n",
    "\n",
    "Erfaringsvis med innføring av en turistskatt virker det ikke som at det har noen stor innvirkning på turiststrømmen som drar til destinasjonene, men at det har en positiv virkning på verningen av miljøet hvor turistene drar.\n",
    "\n",
    "I denne utredningen skal vi se på:\n",
    "\n",
    "- Hvordan antall hotellnattinger påvirkes av en turistskatt\n",
    "- Hva blir effekten av en turistskatt på prisnivået i kommunen\n",
    "- Hva blir effekten av en turistskatt på antall arbeidsplasser i kommunen\n",
    "- Hva blir effekten av en turistskatt på antall turister som drar til kommunen\n",
    "- Hvordan blir cruiseskip turismen til kommunene påvirket av en turistskatt?\n",
    "- Hvor mye penger kan kommunene tjene på en turistskatt?\n",
    "- Hva er de beste måtene å innføre en turistskatt på?"
   ]
  },
  {
   "cell_type": "code",
   "execution_count": null,
   "metadata": {},
   "outputs": [],
   "source": []
  },
  {
   "cell_type": "code",
   "execution_count": null,
   "metadata": {},
   "outputs": [],
   "source": []
  },
  {
   "cell_type": "code",
   "execution_count": null,
   "metadata": {},
   "outputs": [],
   "source": []
  },
  {
   "attachments": {},
   "cell_type": "markdown",
   "metadata": {},
   "source": [
    "*Kapittel 2 - Turistnæringen i Norge*\n",
    "\n",
    "Her gir du leseren et overblikk over markedet som du skal analysere. Om du vil kan du begrense deg til Nord-Norge. Finn data som du laster ned og bruker til å tegne figurer for å gi en indikasjon på størrelsen og viktigheten  på dette markedet. For eksempel:       \n",
    "\n",
    "- Hvordan har antall hotellovernattinger utviklet seg over tid?\n",
    "- Når på året kommer turister?\n",
    "- Hva er fordelingen av turister som ankommer via skip (cruise) og med fly, evt andre fremkomstmidler?\n",
    "- Hvordan er hotelløkonomien?\n",
    "- Hvor utbredt er private overnattinger gjennom Airbnb og andre plattformer?\n",
    "- Hvorfor kan disse momentene være viktig for din analyse?"
   ]
  },
  {
   "cell_type": "code",
   "execution_count": null,
   "metadata": {},
   "outputs": [],
   "source": []
  },
  {
   "cell_type": "code",
   "execution_count": null,
   "metadata": {},
   "outputs": [],
   "source": []
  },
  {
   "cell_type": "code",
   "execution_count": null,
   "metadata": {},
   "outputs": [],
   "source": []
  },
  {
   "attachments": {},
   "cell_type": "markdown",
   "metadata": {},
   "source": [
    "*Kapittel 3 - Samfunnsøkonomiske effekter av en turistskatt*     \n",
    "\n",
    "I dette kapitlet gjennomfører du analysen. Du kan vurdere å ta med følgende elementer:      \n",
    "\n",
    "- Hva er formålet med å innføre en turistskatt på overnattinger?\n",
    "- Hvordan fungerer markedet for overnattinger uten en skatt?\n",
    "- Hvilke endringer forventer vi etter at skatten blir innført?\n",
    "- Hvilke effektivitets- og fordelingseffekter har dette tiltaket?\n",
    "- Hvor store effekter forventer vi, og hva er dette avhengig av?\n",
    "- Finnes det noen estimat på sentrale parameter (for eksempel priselastisiteten på etterspørsel etter overnattinger) som vi kan bruke for å konkretisere analysen?\n",
    "- En vurdering av hvorvidt formålet med tiltaket oppfylles.\n",
    "\n",
    "I kurset så langt har vi brukt ulike varianter av markedskrysset for å analysere forskjellige markeder, og dette blir verktøyet som brukes her også. Husk å gi en god forklaring av alle figurer som du lager i forbindelse med analysen. Dere har alt dere trenger! (Om du vil gå noe utover det som vi har snakket om i kurset så langt kan det være en idé å se på kapittel 13 i læreboka om \"eksterne virkninger\").        "
   ]
  },
  {
   "cell_type": "code",
   "execution_count": null,
   "metadata": {},
   "outputs": [],
   "source": []
  },
  {
   "cell_type": "code",
   "execution_count": null,
   "metadata": {},
   "outputs": [],
   "source": []
  },
  {
   "cell_type": "code",
   "execution_count": null,
   "metadata": {},
   "outputs": [],
   "source": []
  },
  {
   "attachments": {},
   "cell_type": "markdown",
   "metadata": {},
   "source": [
    "*Kapittel 4 - Konklusjon*\n",
    "\n",
    "Her oppsummerer du kort dinne funn fra analysen, og råd til Nærings- og fiskeridepartementet.     \n"
   ]
  }
 ],
 "metadata": {
  "kernelspec": {
   "display_name": "Python 3",
   "language": "python",
   "name": "python3"
  },
  "language_info": {
   "name": "python",
   "version": "3.8.10"
  },
  "orig_nbformat": 4,
  "vscode": {
   "interpreter": {
    "hash": "570feb405e2e27c949193ac68f46852414290d515b0ba6e5d90d076ed2284471"
   }
  }
 },
 "nbformat": 4,
 "nbformat_minor": 2
}
