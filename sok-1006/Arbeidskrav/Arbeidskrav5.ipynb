{
 "cells": [
  {
   "cell_type": "markdown",
   "id": "c3300abf-be6d-4f15-a5d3-aa3d222df774",
   "metadata": {},
   "source": [
    "# SOK-1006 V23\n",
    "\n",
    "## Forelesning 9 - Bedriftens inntekter og kostnader"
   ]
  },
  {
   "cell_type": "markdown",
   "id": "44435649-06cc-477b-835a-6d2b24c7fdbf",
   "metadata": {},
   "source": [
    "### 1. Bedriftens innteker og kostnader\n",
    "Vi vil beskrive bedriftens atferd i produkt- og faktormarkedene på kort og lang sikt. For å kunne gjøre dette vil vi anta at bedriften tar produktprisen og faktorprisene for gitt. (Analyse av bedrifter med *markedsmakt* møter dere i SOK-2030 Næringsøkonomi og konkurransestrategi). Når bedriften selger én enhet på produktmarkedet får den en fast pris på $p$. Med $x$ solgte enheter får bedriften en inntekt (R) på\n",
    "$$ R(x)=px.$$\n",
    "Det vil si at gjennomsnittsinntekt per enhet solgt er $\\frac{R(x)}{x}=\\frac{px}{x}=p$, og grenseinntekten er $R'(x)=\\frac{dR}{dx}=p$.      \n",
    "For å produsere goder eller tjenester må bedriften ansette produksjonsfaktorer, noe som gir bedriften en kostnad. Kostnaden kan være fast, dvs uavhengig av hvor mange enheter som produseres: $C_f.$ Produksjonsavhengige kostnader er variable kostnader $C_v(x)$ som avhenger av mengden produsert. Totale kostnader blir da summen av disse: $C(x)=C_f+C_v(x).$         \n",
    "Dersom bedriften produserer én enhet ekstra ut fra dagens produksjonsnivå vil økningen i kostnaden kjennetegnes av grensekostnaden:\n",
    "$$C'(x)=\\frac{dC}{dx}=\\frac{dC_v}{dx}.$$\n",
    "\n",
    "Beløpet som det koster bedriften per enhet produsert er den totale gjennomsnittskostnaden ($\\overline{C}$), og dette er summen av faste gjennomsnittskostnader ($\\overline{C}_f$) og variable gjennomsnittskostnader ($\\overline{C}_v$):\n",
    "$$ \\overline{C} = \\overline{C}_f+\\overline{C}_v = \\frac{\\overline{C}_f}{x} +\\frac{\\overline{C}_v(x)}{x}.$$\n"
   ]
  },
  {
   "attachments": {},
   "cell_type": "markdown",
   "id": "787bf319-3979-4105-afc6-037857176141",
   "metadata": {},
   "source": [
    "### 2. Kostnader på kort sikt\n",
    "\n",
    "Vi skal skrive kostnadsfunksjonen på kort sikt som en funksjon av hvor mange enheter bedriften produserer. På kort sikt er det minst én produksjonsfaktor som er fast.       \n",
    "\n",
    "**Oppgave**      \n",
    "\n",
    "En bedrift produserer goder med følgende produktfunksjon:\n",
    "\n",
    "\n",
    "\\begin{equation}\n",
    "    x = f(N,K)=N^{0.5}K^{0.5}\\tag{1}\n",
    "\\end{equation}\n",
    "\n",
    "På kort sikt har bedriften tilgang til begrenset kapital $K_0=10$. Prisen per enhet kapital er fast $r=500$ NOK, mens én time med arbeidskraft koster $w=350$ NOK. På kort sikt kan bedriften velge hvor mange timer arbeidskraft som tilsettes. Bedriften leier et bygg til produksjonen av produktet, og dette koster 10 000 NOK (faste kostnader).      \n",
    "a) Finn et utrykk for bedriftens totale produksjonskostnad på kort sikt som en funksjon av produsert mengde og kapitalbeholdningen: $C_s(x, K_0)$. Tegn denne funksjon i en figur med produksjon på den horisontale aksen. Tegn også kostnadsfunksjonen som oppstår når kapitalbeholdningen økes til $K_1=50$. Kommenter dine funn.   \n"
   ]
  },
  {
   "cell_type": "code",
   "execution_count": 16,
   "id": "4a4d8e9b-9f00-49eb-ad4c-1b5b08a639fa",
   "metadata": {},
   "outputs": [
    {
     "data": {
      "text/latex": [
       "$\\displaystyle \\frac{K}{x^{2}}$"
      ],
      "text/plain": [
       "K/x**2"
      ]
     },
     "execution_count": 16,
     "metadata": {},
     "output_type": "execute_result"
    }
   ],
   "source": [
    "import sympy as sp\n",
    "import numpy as np\n",
    "from matplotlib import pyplot as plt\n",
    "\n",
    "N, K, x= sp.symbols('N K x', positive=True, real=True)    \n",
    "# oppgave a\n",
    "def cobb_doug(N,K):\n",
    "    return (N**0.5)*(K**0.5)\n",
    "\n",
    "# pris per enhet kapital\n",
    "r=500\n",
    "# en time med arbeidskraft\n",
    "w=350\n",
    "#Definerer k0\n",
    "k0=10\n",
    "#Definerer k1\n",
    "k1=50\n",
    "\n",
    "Nsolve= sp.solve(cobb_doug(N,K)-x*N, N)[0] \n",
    "\n",
    "lambdify= sp.lambdify(K, Nsolve, 'numpy')\n",
    "Nsolve\n"
   ]
  },
  {
   "cell_type": "code",
   "execution_count": 15,
   "id": "0f623e51",
   "metadata": {},
   "outputs": [
    {
     "ename": "TypeError",
     "evalue": "Cannot convert expression to float",
     "output_type": "error",
     "traceback": [
      "\u001b[1;31m---------------------------------------------------------------------------\u001b[0m",
      "\u001b[1;31mTypeError\u001b[0m                                 Traceback (most recent call last)",
      "\u001b[1;32mc:\\Users\\danie\\.ipython\\python\\sok-1006\\sok1006-notater_edit\\Arbeidskrav5.ipynb Cell 6\u001b[0m in \u001b[0;36m<cell line: 6>\u001b[1;34m()\u001b[0m\n\u001b[0;32m      <a href='vscode-notebook-cell:/c%3A/Users/danie/.ipython/python/sok-1006/sok1006-notater_edit/Arbeidskrav5.ipynb#W5sZmlsZQ%3D%3D?line=1'>2</a>\u001b[0m x \u001b[39m=\u001b[39m np\u001b[39m.\u001b[39mlinspace(\u001b[39m0.1\u001b[39m, \u001b[39m100\u001b[39m, \u001b[39m1000\u001b[39m)\n\u001b[0;32m      <a href='vscode-notebook-cell:/c%3A/Users/danie/.ipython/python/sok-1006/sok1006-notater_edit/Arbeidskrav5.ipynb#W5sZmlsZQ%3D%3D?line=3'>4</a>\u001b[0m fig,ax \u001b[39m=\u001b[39m plt\u001b[39m.\u001b[39msubplots()\n\u001b[1;32m----> <a href='vscode-notebook-cell:/c%3A/Users/danie/.ipython/python/sok-1006/sok1006-notater_edit/Arbeidskrav5.ipynb#W5sZmlsZQ%3D%3D?line=5'>6</a>\u001b[0m ax\u001b[39m.\u001b[39;49mplot(\u001b[39m10\u001b[39;49m, lambdify(\u001b[39m50\u001b[39;49m))\n\u001b[0;32m      <a href='vscode-notebook-cell:/c%3A/Users/danie/.ipython/python/sok-1006/sok1006-notater_edit/Arbeidskrav5.ipynb#W5sZmlsZQ%3D%3D?line=6'>7</a>\u001b[0m ax\u001b[39m.\u001b[39mlegend([\u001b[39m'\u001b[39m\u001b[39mN\u001b[39m\u001b[39m'\u001b[39m])\n",
      "File \u001b[1;32m~\\AppData\\Roaming\\Python\\Python38\\site-packages\\matplotlib\\axes\\_axes.py:1664\u001b[0m, in \u001b[0;36mAxes.plot\u001b[1;34m(self, scalex, scaley, data, *args, **kwargs)\u001b[0m\n\u001b[0;32m   1662\u001b[0m lines \u001b[39m=\u001b[39m [\u001b[39m*\u001b[39m\u001b[39mself\u001b[39m\u001b[39m.\u001b[39m_get_lines(\u001b[39m*\u001b[39margs, data\u001b[39m=\u001b[39mdata, \u001b[39m*\u001b[39m\u001b[39m*\u001b[39mkwargs)]\n\u001b[0;32m   1663\u001b[0m \u001b[39mfor\u001b[39;00m line \u001b[39min\u001b[39;00m lines:\n\u001b[1;32m-> 1664\u001b[0m     \u001b[39mself\u001b[39;49m\u001b[39m.\u001b[39;49madd_line(line)\n\u001b[0;32m   1665\u001b[0m \u001b[39mif\u001b[39;00m scalex:\n\u001b[0;32m   1666\u001b[0m     \u001b[39mself\u001b[39m\u001b[39m.\u001b[39m_request_autoscale_view(\u001b[39m\"\u001b[39m\u001b[39mx\u001b[39m\u001b[39m\"\u001b[39m)\n",
      "File \u001b[1;32m~\\AppData\\Roaming\\Python\\Python38\\site-packages\\matplotlib\\axes\\_base.py:2340\u001b[0m, in \u001b[0;36m_AxesBase.add_line\u001b[1;34m(self, line)\u001b[0m\n\u001b[0;32m   2337\u001b[0m \u001b[39mif\u001b[39;00m line\u001b[39m.\u001b[39mget_clip_path() \u001b[39mis\u001b[39;00m \u001b[39mNone\u001b[39;00m:\n\u001b[0;32m   2338\u001b[0m     line\u001b[39m.\u001b[39mset_clip_path(\u001b[39mself\u001b[39m\u001b[39m.\u001b[39mpatch)\n\u001b[1;32m-> 2340\u001b[0m \u001b[39mself\u001b[39;49m\u001b[39m.\u001b[39;49m_update_line_limits(line)\n\u001b[0;32m   2341\u001b[0m \u001b[39mif\u001b[39;00m \u001b[39mnot\u001b[39;00m line\u001b[39m.\u001b[39mget_label():\n\u001b[0;32m   2342\u001b[0m     line\u001b[39m.\u001b[39mset_label(\u001b[39mf\u001b[39m\u001b[39m'\u001b[39m\u001b[39m_child\u001b[39m\u001b[39m{\u001b[39;00m\u001b[39mlen\u001b[39m(\u001b[39mself\u001b[39m\u001b[39m.\u001b[39m_children)\u001b[39m}\u001b[39;00m\u001b[39m'\u001b[39m)\n",
      "File \u001b[1;32m~\\AppData\\Roaming\\Python\\Python38\\site-packages\\matplotlib\\axes\\_base.py:2363\u001b[0m, in \u001b[0;36m_AxesBase._update_line_limits\u001b[1;34m(self, line)\u001b[0m\n\u001b[0;32m   2359\u001b[0m \u001b[39mdef\u001b[39;00m \u001b[39m_update_line_limits\u001b[39m(\u001b[39mself\u001b[39m, line):\n\u001b[0;32m   2360\u001b[0m     \u001b[39m\"\"\"\u001b[39;00m\n\u001b[0;32m   2361\u001b[0m \u001b[39m    Figures out the data limit of the given line, updating self.dataLim.\u001b[39;00m\n\u001b[0;32m   2362\u001b[0m \u001b[39m    \"\"\"\u001b[39;00m\n\u001b[1;32m-> 2363\u001b[0m     path \u001b[39m=\u001b[39m line\u001b[39m.\u001b[39;49mget_path()\n\u001b[0;32m   2364\u001b[0m     \u001b[39mif\u001b[39;00m path\u001b[39m.\u001b[39mvertices\u001b[39m.\u001b[39msize \u001b[39m==\u001b[39m \u001b[39m0\u001b[39m:\n\u001b[0;32m   2365\u001b[0m         \u001b[39mreturn\u001b[39;00m\n",
      "File \u001b[1;32m~\\AppData\\Roaming\\Python\\Python38\\site-packages\\matplotlib\\lines.py:1031\u001b[0m, in \u001b[0;36mLine2D.get_path\u001b[1;34m(self)\u001b[0m\n\u001b[0;32m   1029\u001b[0m \u001b[39m\"\"\"Return the `~matplotlib.path.Path` associated with this line.\"\"\"\u001b[39;00m\n\u001b[0;32m   1030\u001b[0m \u001b[39mif\u001b[39;00m \u001b[39mself\u001b[39m\u001b[39m.\u001b[39m_invalidy \u001b[39mor\u001b[39;00m \u001b[39mself\u001b[39m\u001b[39m.\u001b[39m_invalidx:\n\u001b[1;32m-> 1031\u001b[0m     \u001b[39mself\u001b[39;49m\u001b[39m.\u001b[39;49mrecache()\n\u001b[0;32m   1032\u001b[0m \u001b[39mreturn\u001b[39;00m \u001b[39mself\u001b[39m\u001b[39m.\u001b[39m_path\n",
      "File \u001b[1;32m~\\AppData\\Roaming\\Python\\Python38\\site-packages\\matplotlib\\lines.py:664\u001b[0m, in \u001b[0;36mLine2D.recache\u001b[1;34m(self, always)\u001b[0m\n\u001b[0;32m    662\u001b[0m \u001b[39mif\u001b[39;00m always \u001b[39mor\u001b[39;00m \u001b[39mself\u001b[39m\u001b[39m.\u001b[39m_invalidy:\n\u001b[0;32m    663\u001b[0m     yconv \u001b[39m=\u001b[39m \u001b[39mself\u001b[39m\u001b[39m.\u001b[39mconvert_yunits(\u001b[39mself\u001b[39m\u001b[39m.\u001b[39m_yorig)\n\u001b[1;32m--> 664\u001b[0m     y \u001b[39m=\u001b[39m _to_unmasked_float_array(yconv)\u001b[39m.\u001b[39mravel()\n\u001b[0;32m    665\u001b[0m \u001b[39melse\u001b[39;00m:\n\u001b[0;32m    666\u001b[0m     y \u001b[39m=\u001b[39m \u001b[39mself\u001b[39m\u001b[39m.\u001b[39m_y\n",
      "File \u001b[1;32m~\\AppData\\Roaming\\Python\\Python38\\site-packages\\matplotlib\\cbook\\__init__.py:1369\u001b[0m, in \u001b[0;36m_to_unmasked_float_array\u001b[1;34m(x)\u001b[0m\n\u001b[0;32m   1367\u001b[0m     \u001b[39mreturn\u001b[39;00m np\u001b[39m.\u001b[39mma\u001b[39m.\u001b[39masarray(x, \u001b[39mfloat\u001b[39m)\u001b[39m.\u001b[39mfilled(np\u001b[39m.\u001b[39mnan)\n\u001b[0;32m   1368\u001b[0m \u001b[39melse\u001b[39;00m:\n\u001b[1;32m-> 1369\u001b[0m     \u001b[39mreturn\u001b[39;00m np\u001b[39m.\u001b[39;49masarray(x, \u001b[39mfloat\u001b[39;49m)\n",
      "File \u001b[1;32m~\\AppData\\Roaming\\Python\\Python38\\site-packages\\sympy\\core\\expr.py:351\u001b[0m, in \u001b[0;36mExpr.__float__\u001b[1;34m(self)\u001b[0m\n\u001b[0;32m    349\u001b[0m \u001b[39mif\u001b[39;00m result\u001b[39m.\u001b[39mis_number \u001b[39mand\u001b[39;00m result\u001b[39m.\u001b[39mas_real_imag()[\u001b[39m1\u001b[39m]:\n\u001b[0;32m    350\u001b[0m     \u001b[39mraise\u001b[39;00m \u001b[39mTypeError\u001b[39;00m(\u001b[39m\"\u001b[39m\u001b[39mCannot convert complex to float\u001b[39m\u001b[39m\"\u001b[39m)\n\u001b[1;32m--> 351\u001b[0m \u001b[39mraise\u001b[39;00m \u001b[39mTypeError\u001b[39;00m(\u001b[39m\"\u001b[39m\u001b[39mCannot convert expression to float\u001b[39m\u001b[39m\"\u001b[39m)\n",
      "\u001b[1;31mTypeError\u001b[0m: Cannot convert expression to float"
     ]
    },
    {
     "data": {
      "image/png": "[encoded data removed]",
      "text/plain": [
       "<Figure size 640x480 with 1 Axes>"
      ]
     },
     "metadata": {},
     "output_type": "display_data"
    }
   ],
   "source": [
    "# Oppgave a figur\n",
    "x = np.linspace(0.1, 100, 1000)\n",
    "\n",
    "fig,ax = plt.subplots()\n",
    "\n",
    "ax.plot(10, lambdify(50))\n",
    "ax.legend(['N']);"
   ]
  },
  {
   "attachments": {},
   "cell_type": "markdown",
   "id": "699c635d",
   "metadata": {},
   "source": [
    "b) I en ny figur tegn totale gjennomsnittskostnader på kort sikt, variabler gjennomsnittskostnader på kort sikt, og grensekostnaden på kort sikt. Kommenter og forklar forholdet mellom total og variabel gjennomsnittskostnad og grensekostnaden.       "
   ]
  },
  {
   "cell_type": "code",
   "execution_count": null,
   "id": "d14b6289",
   "metadata": {},
   "outputs": [],
   "source": [
    "# Oppgave b"
   ]
  },
  {
   "attachments": {},
   "cell_type": "markdown",
   "id": "89dd0663",
   "metadata": {},
   "source": [
    "c) Hvilke skalaegenskaper viser denne produktfunksjon?"
   ]
  },
  {
   "cell_type": "code",
   "execution_count": null,
   "id": "e917f7b6",
   "metadata": {},
   "outputs": [],
   "source": []
  },
  {
   "cell_type": "markdown",
   "id": "2c009557-be93-401f-b269-24107af370fe",
   "metadata": {},
   "source": [
    "### 3. Kostnader på lang sikt - Kostnadsminimering\n",
    "På lang sikt kan bedriften velge hvor mye av hver faktor som skal ansettes. Dette, sammen med evt. faste kostnader, vil bestemme produksjonskostnaden. Hvordan velger bedrifter faktorinnsatsen? Det er naturlig å tenke at bedriften vil maksimere sin fortjeneste (dette er ikke eneste mulighet, men et nauturlig utgangspunkt for mange produsenter). Gitt at bedriften tar alle priser for gitt vil en produsert mengde $x$ gi en inntekt på $px$ NOK. Å maksimere fortjeneste er da det samme som å minimere kostnaden for å prodsuere denne mengden. Gitt at bedriften tar priser i faktormarkedet for gitt vil det koste $wN$ å ansette $N$ enheter med arbeidskraft, $rK$ å ansette $K$ enheter med kapital, $tS$ å bruke $S$ Kw/t med strøm osv (w er timelønn, r er rente, t er prisen på strøm her). Summen av disse utgiftene er det som bedriften vil minimere ved optimale valg av innsatsfaktorer. Vi kan se bort fra faste kostnader i beregningen (skjønner du hvorfor?).       \n",
    "Minimeringsproblemet til bedriften er da\n",
    "$$ minimer \\;\\; C\\;\\; for\\;\\; x=x_0$$\n",
    "hvor $x_0$ er mengden som bedriften ønsker å produsere. Tenk at vi har kun to faktorer, arbeidskraft og kapital, og bedriften bruker følgende teknologi: $x=f(N,K)$. Da kan vi skrive kostnadsminimeringsproblemet som:        \n",
    "$$ min_{N,K}\\;wN+rK \\;\\; ubb\\;\\; x_0=f(N,K).$$\n",
    "Subskriften ved siden av \"min\" viser hvilke variabler det er vi skal velge (dvs de endogene variablene), og \"ubb\" betyr \"under bibetingelse\". Dere har sett slike problem før i BED-1007; dette løses ved hjelp av Lagrange metoden (se Appendiks 5.1 på s. 165 i boka).         \n",
    "\n",
    "Vi setter opp Lagrange funksjonen:\n",
    "$$L = wN+rK-\\lambda (f(N,K)-x_0)$$\n",
    "hvor $\\lambda$ er en Lagrange multiplikator som viser verdien av å gjøre bibetingelsen mindre streng. I dette tilfellet viser det økningen i kostnaden dersom vi øke produskjonen med én enhet (**har du hørt om det før?**). Vi deriverer $L$ med hensyn på $N,K,\\lambda$:\n",
    "\n",
    "$$\\begin{align}\n",
    "\\frac{\\partial L}{\\partial N} &= w - \\lambda f'_N = 0 \\tag {2}\\\\\n",
    "\\frac{\\partial L}{\\partial K} &= r - \\lambda f'_K = 0 \\tag {3}\\\\\n",
    "\\frac{\\partial L}{\\partial \\lambda} &= x_0-f(N,K) = 0 \\tag {4}\\\\\n",
    "\\end{align}$$\n",
    "\n",
    "Legg merke til at (4) innebærer at løsningen som vi finner må tilfredsstille bibetingelsen. Vi kan skrive om (2) og (3):\n",
    "\n",
    "$$\\begin{align}\n",
    "w &= \\lambda f'_N \\tag {5}\\\\\n",
    "r &= \\lambda f'_K \\tag {6}\\\\\n",
    "\\end{align}$$\n",
    "\n",
    "Deler vi (5) på (6) får vi\n",
    "\n",
    "$$\n",
    "\\frac{w}{r}=\\frac{f'_N}{f'_K} \\tag{7}\n",
    "$$\n",
    "Tolkningen av (7) er at den relative prisen på arbeidskraft (venstre side) er lik den marginale tekninske substitusjonsbrøken (MTSB, se forelesning 7). Hvorfor er dette optimalt? Tenk at $\\frac{w}{r}=2$ mens $\\frac{f'_N}{f'_K}=MTSB=1$. Sistnevnte forteller at vi kan holde produskjonen konstant (ved målet som er $x_0$) dersom vi bytter 1N for 1K, og den relative prisen på arbeidskraft forteller at vi kan kjøpe 2K dersom vi gir opp 1N. Dvs til samme kostnad kan vi nå produsere mer ved å endre sammensetningen av innsatsfaktorene. Da kan utgangspunktet ikke være optimalt. **Fullfør resonnementet selv for å vise at $\\frac{w}{r}=1$, og $\\frac{f'_N}{f'_K}=MTSB=2$ ikke kan angi en optimal løsning.** Eneste mulighet som er igjen - og som viser en kostnadsminimerende løsning - er den som er gitt ved (7). Da har vi følgende *to ting* som er oppfylt for en kostnadsminimerende kombinasjon av $N,K$:\n",
    "\n",
    "$$\\begin{align}\n",
    "\\frac{w}{r}&=\\frac{f'_N}{f'_K} \\tag{7}\\\\\n",
    "x_0 &=f(N,K) \\tag {8}\\\\\n",
    "\\end{align}$$\n",
    "\n",
    "(7) sikrer at kombinasjonen av $N,K$ som velges minimerer produksjonskostnaden, og (8) sikrer at denne kombinasjonen produserer målet $x_0$."
   ]
  },
  {
   "cell_type": "markdown",
   "id": "b98b49ee-a1d8-44fe-8054-46c983c41ab0",
   "metadata": {},
   "source": [
    "#### 3.1 Et eksempel\n",
    "La oss gå tilbake til bedriften som bruker produktfunksjonen i (1). Vi skal undersøke bedriftens valg av kostnadsminimerende innsatsfaktorer."
   ]
  },
  {
   "cell_type": "code",
   "execution_count": 2,
   "id": "4eb50e97-be2b-4735-a2cf-54e3521a67c7",
   "metadata": {},
   "outputs": [],
   "source": [
    "# importer pakker\n",
    "\n",
    "import sympy as sp"
   ]
  },
  {
   "cell_type": "code",
   "execution_count": 3,
   "id": "ce36976c-2937-4aba-bf1c-36bb52d5d77c",
   "metadata": {},
   "outputs": [],
   "source": [
    "# definer symboler. X blir produksjonsmålet, lmda er Lagrange multiplikatoren\n",
    "N,K,X,lmda,w,r=sp.symbols('N K X \\lambda, w, r', real=True, positive=True)"
   ]
  },
  {
   "cell_type": "code",
   "execution_count": 4,
   "id": "18f6b224-a090-472d-b659-49db2c7c92fe",
   "metadata": {},
   "outputs": [
    {
     "data": {
      "text/latex": [
       "$\\displaystyle K^{0.5} N^{0.5}$"
      ],
      "text/plain": [
       "K**0.5*N**0.5"
      ]
     },
     "execution_count": 4,
     "metadata": {},
     "output_type": "execute_result"
    }
   ],
   "source": [
    "def x(N,K):\n",
    "    return (N**.5)*(K**.5)\n",
    "x(N,K)"
   ]
  },
  {
   "cell_type": "markdown",
   "id": "435bc690-59fe-4e10-b8ed-a5d417081ea5",
   "metadata": {},
   "source": [
    "Målet er å minimere $w N + r K$ for en gitt produksjon $X$ gitt produktfunksjon $x=K^{0.5} N^{0.5}$ med hensyn til $K$ og $N$. Lagrange er da $L=w N +r K - \\lambda (K^{0.5} N^{0.5}-X)$"
   ]
  },
  {
   "cell_type": "code",
   "execution_count": 5,
   "id": "30a0b3d6-0c32-4b40-9239-f3bed78faead",
   "metadata": {},
   "outputs": [],
   "source": [
    "# Lagrange likning\n",
    "L=w*N + r*K-lmda*(x(N,K)-X)"
   ]
  },
  {
   "cell_type": "code",
   "execution_count": 6,
   "id": "ffd735cb-5252-4b21-a3f8-d6b63c3f0c0b",
   "metadata": {},
   "outputs": [
    {
     "data": {
      "text/latex": [
       "$\\displaystyle - \\frac{0.5 K^{0.5} \\lambda}{N^{0.5}} + w = 0$"
      ],
      "text/plain": [
       "Eq(-0.5*K**0.5*\\lambda/N**0.5 + w, 0)"
      ]
     },
     "metadata": {},
     "output_type": "display_data"
    },
    {
     "data": {
      "text/latex": [
       "$\\displaystyle - \\frac{0.5 N^{0.5} \\lambda}{K^{0.5}} + r = 0$"
      ],
      "text/plain": [
       "Eq(-0.5*N**0.5*\\lambda/K**0.5 + r, 0)"
      ]
     },
     "metadata": {},
     "output_type": "display_data"
    }
   ],
   "source": [
    "# deriver mhp N og K\n",
    "\n",
    "dL_N=sp.diff(L,N)\n",
    "dL_K=sp.diff(L,K)\n",
    "foc_N=sp.Eq(dL_N,0)\n",
    "foc_K=sp.Eq(dL_K,0)\n",
    "display (foc_N)\n",
    "display (foc_K)"
   ]
  },
  {
   "cell_type": "markdown",
   "id": "a959c284-1d1d-46e4-bcc1-b1cf7dbffabb",
   "metadata": {},
   "source": [
    "Dette er likning (2) og (3) for vårt eksempel. La oss prøve å skrive dette i formen på (7):"
   ]
  },
  {
   "cell_type": "code",
   "execution_count": 7,
   "id": "fe6dcb6b-eeff-438b-8943-e7764278e3e0",
   "metadata": {},
   "outputs": [
    {
     "data": {
      "text/plain": [
       "(w, -0.5*K**0.5*\\lambda/N**0.5)"
      ]
     },
     "metadata": {},
     "output_type": "display_data"
    },
    {
     "data": {
      "text/plain": [
       "(r, -0.5*N**0.5*\\lambda/K**0.5)"
      ]
     },
     "metadata": {},
     "output_type": "display_data"
    }
   ],
   "source": [
    "display (dL_N.args)\n",
    "display (dL_K.args)\n",
    "# dette viser plasseringen av elementene i listene"
   ]
  },
  {
   "cell_type": "code",
   "execution_count": 8,
   "id": "23972a29-309b-4934-afa6-a0952f96cc32",
   "metadata": {},
   "outputs": [
    {
     "data": {
      "text/latex": [
       "$\\displaystyle \\frac{w}{r} = \\frac{1.0 K^{1.0}}{N^{1.0}}$"
      ],
      "text/plain": [
       "Eq(w/r, 1.0*K**1.0/N**1.0)"
      ]
     },
     "metadata": {},
     "output_type": "display_data"
    }
   ],
   "source": [
    "# da kan vi skrive den rel prisen på arbeidskraft (w/r) som\n",
    "rel_w=(dL_N.args[0]/dL_K.args[0])\n",
    "\n",
    "# og mtsb som\n",
    "mtsb=(dL_N.args[1]/dL_K.args[1])\n",
    "\n",
    "# sett disse lik som i likning (7)\n",
    "optimal=sp.Eq(rel_w,mtsb)\n",
    "display(optimal)"
   ]
  },
  {
   "cell_type": "markdown",
   "id": "38361070-66b4-4e2a-a37d-dfd583f090fe",
   "metadata": {},
   "source": [
    "Da er likning (7): $\\frac{w}{r}=\\frac{K}{N}$. **Legg merke til hva dette forteller oss! Dette gir oss det relative forholdet mellom K og N i en optimal løsning.**"
   ]
  },
  {
   "cell_type": "markdown",
   "id": "ea4fe6e5-c988-4a1c-9ec8-3dac7475a214",
   "metadata": {},
   "source": [
    "**Oppgave**         \n",
    "*Hvorfor er det relative forholdet mellom K og N i en optimal løsning kun avhengig av økonomiske faktorer her, og ikke produksjonselastisitetene (dvs faktorer fra produktfunksjonen)? Undersøk din løsning ved å kjøre samme analyse som ovenfor med en generell Cobb-Douglas produktfunksjon $x=N^aK^b$, hvor $a,b>0$ er produksjonselastisitetene til arbeidskraft og kapital.*"
   ]
  },
  {
   "cell_type": "code",
   "execution_count": 9,
   "id": "7d52bb23-ea2e-4a02-9cf9-419a5bfc5751",
   "metadata": {},
   "outputs": [],
   "source": [
    "# Skriv ditt svar her\n"
   ]
  }
 ],
 "metadata": {
  "kernelspec": {
   "display_name": "Python 3",
   "language": "python",
   "name": "python3"
  },
  "language_info": {
   "codemirror_mode": {
    "name": "ipython",
    "version": 3
   },
   "file_extension": ".py",
   "mimetype": "text/x-python",
   "name": "python",
   "nbconvert_exporter": "python",
   "pygments_lexer": "ipython3",
   "version": "3.8.10"
  },
  "vscode": {
   "interpreter": {
    "hash": "570feb405e2e27c949193ac68f46852414290d515b0ba6e5d90d076ed2284471"
   }
  }
 },
 "nbformat": 4,
 "nbformat_minor": 5
}
