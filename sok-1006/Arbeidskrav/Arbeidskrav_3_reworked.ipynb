{
  "cells": [
    {
      "cell_type": "raw",
      "metadata": {},
      "source": [
        "---\n",
        "title: \"SOK-1006: Arbeidskrav 3  - reworked\"\n",
        "author: \"Daniel Fabio Groth\"\n",
        "title-block-banner: \"darkslateblue\"\n",
        "format:\n",
        "  html: \n",
        "    code-fold: true\n",
        "    df-print: kable\n",
        "output: true\n",
        "editor: visual\n",
        "toc: true\n",
        "warning: false\n",
        "---"
      ],
      "id": "07af961c"
    },
    {
      "cell_type": "markdown",
      "metadata": {},
      "source": [
        "For å gå tilbake til hovedsiden trykker du [her](https://danielfabiog.github.io/SOK-1003-og-SOK-1006/).\n",
        "\n",
        "# SOK-1006 V23\n",
        "\n",
        "## Arbeidskrav 3\n",
        "\n",
        "### Frist fredag 10. februar kl 18.00 i Canvas\n",
        "\n",
        "**Lever inn lenken til ditt repo på GitHub hvor løsningen ligger**. Individuell innlevering.\n",
        "\n",
        "Se Jupyter notatblokk \"Forsmak mappe 1\" for et forslag til fremgangsmåte her, og kap 9 i boka. Samt forelesning 08.02.\n",
        "\n",
        "Vi ser på markedet for oppdrettslaks på s. 101-104 i boka, og som vi har analysert i forelesning 5.      \n",
        "\n",
        "Med en stykkavgift på $t$ kr per enhet pålagt selgere kan vi skrive etterspørsel og tilbud i (1) og (2):   \n",
        "\n",
        "\n",
        "\\begin{equation}\n",
        "   x^{D}= 500 -3.2p\\tag{1}\n",
        "\\end{equation}\n",
        "\n",
        "og tilbud:\n",
        "\n",
        "\n",
        "\\begin{equation}\n",
        "   x^{S}= -100 + 4.3(p-t)\\tag{2}\n",
        "\\end{equation}\n",
        "\n",
        "1. Finn likevektspris og -kvantum for alle verdier av $t$.      \n"
      ],
      "id": "9c6d3d16"
    },
    {
      "cell_type": "code",
      "metadata": {},
      "source": [
        "# Importerer nødvendige biblioteker\n",
        "import sympy as sp\n",
        "import numpy as np\n",
        "from matplotlib import pyplot as plt\n",
        "\n",
        "# Definerer funksjonene invers\n",
        "def demand(x):\n",
        "    return (500-x)/3.2\n",
        "\n",
        "def supply(x,t):\n",
        "    return ((100+x)/4.3)+ t"
      ],
      "id": "46a9d806",
      "execution_count": null,
      "outputs": []
    },
    {
      "cell_type": "code",
      "metadata": {},
      "source": [
        "# Lager likevektsbetingelsen\n",
        "x,t=sp.symbols('x, t', real=True, positive=True)\n",
        "equ=sp.Eq(demand(x),supply(x,0))\n",
        "equ"
      ],
      "id": "145d67db",
      "execution_count": null,
      "outputs": []
    },
    {
      "cell_type": "code",
      "metadata": {},
      "source": [
        "x_eq=sp.solve(equ,x)\n",
        "x_eq=float(x_eq[0])\n",
        "x_eq"
      ],
      "id": "6767258a",
      "execution_count": null,
      "outputs": []
    },
    {
      "cell_type": "code",
      "metadata": {},
      "source": [
        "p_eq =demand(x_eq)\n",
        "p_eq"
      ],
      "id": "2f8db6f1",
      "execution_count": null,
      "outputs": []
    },
    {
      "cell_type": "markdown",
      "metadata": {},
      "source": [
        "2. Finn uttrykk for konsument- og produsentoverskudd, samt avgiftproveny.     \n"
      ],
      "id": "8e963bef"
    },
    {
      "cell_type": "code",
      "metadata": {},
      "source": [
        "producer_surplus=sp.integrate(p_eq-supply(x,0),(x,0,x_eq))\n",
        "producer_surplus"
      ],
      "id": "68f742dd",
      "execution_count": null,
      "outputs": []
    },
    {
      "cell_type": "code",
      "metadata": {},
      "source": [
        "consumer_surplus=sp.integrate(demand(x)-p_eq,(x,0,x_eq))\n",
        "consumer_surplus"
      ],
      "id": "69559c21",
      "execution_count": null,
      "outputs": []
    },
    {
      "cell_type": "code",
      "metadata": {},
      "source": [
        "tax_revenue=sp.integrate(supply(x,t)-supply(x,0),(x,0,x_eq))\n",
        "# Ikke sikker på hvorfor denne ble slik\n",
        "tax_revenue"
      ],
      "id": "e679f1ab",
      "execution_count": null,
      "outputs": []
    },
    {
      "cell_type": "markdown",
      "metadata": {},
      "source": [
        "3. Tegn likevekten for $t=0$ og fargelegg KO og PO.     \n"
      ],
      "id": "8ce11320"
    },
    {
      "cell_type": "code",
      "metadata": {},
      "source": [
        "x_n=np.linspace(0.1,500,100)\n",
        "q= np.linspace(0,x_eq,100)\n",
        "#lager en akse\n",
        "\n",
        "def create_ax():\n",
        "                fig, ax = plt.subplots()\n",
        "                ax.set_ylabel('Pris (p) per kg', loc='top')\n",
        "                ax.set_xlabel('Kvantum (x) tonn per uke', loc='right')\n",
        "                ax.set(xlim=(0,500))\n",
        "                ax.set(ylim=(0,200))\n",
        "                ax.spines['top'].set_color('none')\n",
        "                ax.spines['right'].set_color('none')\n",
        "                \n",
        "                return fig, ax\n",
        "\n",
        "fig, ax = create_ax()\n",
        "\n",
        "# plotter likevekten for t=0\n",
        "\n",
        "ax.plot (x_n, demand(x_n), label='Etterspørsel')\n",
        "ax.plot (x_n, supply(x_n,0), label='Tilbud')\n",
        "\n",
        "# make line for equilibrium\n",
        "ax.vlines(x_eq, 0, p_eq, linestyles='dashed', color='black')\n",
        "ax.hlines(p_eq, 0, x_eq, linestyles='dashed', color='black')\n",
        "\n",
        "# tittel\n",
        "ax.set_title('Markedslikevekt')\n",
        "\n",
        "ax.fill_between(q,p_eq,demand(q), color = 'green',alpha = 0.5,label='Konsumentoverskudd')\n",
        "ax.fill_between(q,supply(q, 0),p_eq, color = 'red',alpha = 0.5,label='Produsentoverskudd')\n",
        "\n",
        "#vis navnene:\n",
        "ax.legend(bbox_to_anchor=(1.5,0.6));"
      ],
      "id": "adaf2ec2",
      "execution_count": null,
      "outputs": []
    },
    {
      "cell_type": "markdown",
      "metadata": {},
      "source": [
        "4. Tegn inn likevekten for $t=4$, og fargelegg avgiftproveny.      \n"
      ],
      "id": "d0fa2bc4"
    },
    {
      "cell_type": "code",
      "metadata": {},
      "source": [
        "# likevekt for t=4\n",
        "equ_t4 = sp.Eq(demand(x),supply(x, 4))\n",
        "# løser likningen for x\n",
        "x_eq_t4 = sp.solve(equ_t4,x)\n",
        "# konverterer til float\n",
        "x_eq_t4 = float(x_eq_t4[0])\n",
        "# finner likevektsprisen\n",
        "p_eq_t4=demand(x_eq_t4)\n",
        "# finner dødvektstapet\n",
        "q2 = np.linspace(0,x_eq_t4,100)\n",
        "# finner avgiftsproveny\n",
        "q3 = np.linspace(x_eq,x_eq_t4,100)\n",
        "\n",
        "\n",
        "# definerer aksene litt nærmere likevekten\n",
        "ax.set(xlim=(150,250))\n",
        "ax.set(ylim=(60,100))\n",
        "# plotter likevekten for t=4\n",
        "ax.plot (x_n, supply(x_n,4), color=\"purple\", label='Tilbud med t = 4')\n",
        "# fyller inn avgiftsproveny\n",
        "ax.fill_between(q2,p_eq_t4,p_eq_t4-4, color = 'orange',label='avgiftsproveny')\n",
        "# fyller inn dødvektstap\n",
        "ax.fill_between(q3,supply(q3, 0),demand(q3), color = 'grey',label='Dødvektstap')         \n",
        "# viser legende                                                             \n",
        "ax.legend(bbox_to_anchor=(1.5,0.6));\n",
        "fig"
      ],
      "id": "75c8c12e",
      "execution_count": null,
      "outputs": []
    },
    {
      "cell_type": "code",
      "metadata": {},
      "source": [
        "avgiftsproveny = sp.integrate(4, (x, 0, x_eq_t4)) \n",
        "avgiftsproveny"
      ],
      "id": "79565138",
      "execution_count": null,
      "outputs": []
    },
    {
      "cell_type": "markdown",
      "metadata": {},
      "source": [
        "5. Bruk de uttrykkene som du har laget for å fylle ut følgende tabell. NB det er mening at du skal fylle ut tabellen med uttrykk som du har regnet i koden (ikke skriv inn tall manuelt - se Forsmak mappe 1.ipynb).\n"
      ],
      "id": "b121b275"
    },
    {
      "cell_type": "code",
      "metadata": {},
      "source": [
        "from IPython.display import Markdown\n",
        "#producer surplus without tax\n",
        "prod_surplus_t0 = sp.integrate(p_eq-supply(x, 0),(x,0,x_eq))\n",
        "#konsumer surplus without tax\n",
        "cons_surplus_t0 =sp.integrate(demand(x)-p_eq,(x,0,x_eq))\n",
        "#production surplus with t=4\n",
        "prod_surplus_t4 = sp.integrate(p_eq_t4 - 4 - supply(x, 0), (x, 0, x_eq_t4)) \n",
        "#konsumer surplus with t=4\n",
        "cons_surplus_t4 = sp.integrate(demand(x)-p_eq_t4, (x, 0, x_eq_t4)) \n",
        "#tax proveny with t=4\n",
        "avgiftsproveny = sp.integrate(4, (x, 0, x_eq_t4))\n",
        "#deadweight loss\n",
        "dødvektstap = sp.integrate(demand(x) - supply(x, 0), (x, x_eq_t4, x_eq))\n",
        "\n",
        "\n",
        "tbl=f\"\"\"\n",
        "|                     | Før avgift            |Etter avgift    | Endring (etter avgift-før avgift)|\n",
        "| :-------------------| :----------------------------------------|:-------------|:---------------|\n",
        "| Konsumentpris:      | ${p_eq }$           | ${round(p_eq_t4, 2)}$      | ${round(p_eq_t4 - p_eq, 2)}$   |\n",
        "| Produsentpris:      | ${p_eq }$           | ${round(p_eq_t4, 2)-4 }$   | ${round(p_eq_t4-4 - p_eq, 2)}$ |\n",
        "| Kvantum:            | ${round(x_eq, 2)}$  | ${round(x_eq_t4, 2)}$      |  ${round(x_eq_t4 - x_eq, 2)}$  |\n",
        "| Konsumentoverskudd: | ${round(cons_surplus_t0, 2)}$ |${round(cons_surplus_t4, 2)}$  |  ${round(cons_surplus_t4 - cons_surplus_t0, 2)}$ |\n",
        "| Produsentoverskudd: | ${round(prod_surplus_t0, 2)}$ | ${round(prod_surplus_t4, 2)}$ |  ${round(prod_surplus_t4 - prod_surplus_t0, 2)}$ |\n",
        "| KO + PO:            |  ${round(prod_surplus_t0 + cons_surplus_t0, 2)}$    | ${round(prod_surplus_t4 + cons_surplus_t4, 2)}$| ${round((round(prod_surplus_t4 + cons_surplus_t4, 2)) - (round(prod_surplus_t0 + cons_surplus_t0, 2)), 2)}$ |\n",
        "| Skatteproveny      :| ${0}$                  |${round(avgiftsproveny, 2)}$ | ${round(avgiftsproveny, 2) - 0}$   |\n",
        "| Dødvektstap:        |${0}$                   | ${round(dødvektstap, 2)}$  | ${round(dødvektstap, 2) - 0}$     |\n",
        "\"\"\"\n",
        "display(Markdown(tbl))"
      ],
      "id": "f6628f34",
      "execution_count": null,
      "outputs": []
    },
    {
      "cell_type": "markdown",
      "metadata": {},
      "source": [
        "For å gå tilbake til hovedsiden trykker du [her](https://danielfabiog.github.io/SOK-1003-og-SOK-1006/)."
      ],
      "id": "c631eae6"
    }
  ],
  "metadata": {
    "kernelspec": {
      "name": "python3",
      "language": "python",
      "display_name": "Python 3 (ipykernel)"
    }
  },
  "nbformat": 4,
  "nbformat_minor": 5
}