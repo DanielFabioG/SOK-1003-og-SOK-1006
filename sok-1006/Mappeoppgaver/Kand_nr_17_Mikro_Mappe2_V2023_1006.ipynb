{
 "cells": [
  {
   "cell_type": "raw",
   "metadata": {},
   "source": [
    "---\n",
    "title: \"Mappeoppgave 2 - Innføring av bompenger i  Tromsø\"\n",
    "description: |\n",
    "      Effekt på bilisters atferd og velferd\n",
    "date: last-modified\n",
    "author:\n",
    "  - name: Kandidatnummer 17\n",
    "    affiliation: UiT Fakultet for biovitenskap, fiskeri og økonomi.\n",
    "title-block-banner: \"#012643\"\n",
    "format:\n",
    "  pdf: \n",
    "    code-fold: true\n",
    "    self-contained: true\n",
    "    df-print: kable\n",
    "editor: visual\n",
    "warning: false\n",
    "toc: true\n",
    "tof: true\n",
    "---"
   ]
  },
  {
   "cell_type": "code",
   "execution_count": null,
   "metadata": {},
   "outputs": [],
   "source": [
    "# Importing all packages needed for the project\n",
    "import matplotlib.pyplot as plt\n",
    "import numpy as np\n",
    "import sympy as sp\n",
    "import json"
   ]
  },
  {
   "attachments": {},
   "cell_type": "markdown",
   "metadata": {},
   "source": [
    "Test"
   ]
  },
  {
   "attachments": {},
   "cell_type": "markdown",
   "metadata": {},
   "source": [
    "# Appendiks for CHATGPT\n",
    "- \n",
    "- \n",
    "- \n",
    "- \n",
    "- \n",
    "- \n",
    " \n"
   ]
  }
 ],
 "metadata": {
  "kernelspec": {
   "display_name": "Python 3",
   "language": "python",
   "name": "python3"
  },
  "language_info": {
   "name": "python",
   "version": "3.11.1"
  },
  "orig_nbformat": 4
 },
 "nbformat": 4,
 "nbformat_minor": 2
}
