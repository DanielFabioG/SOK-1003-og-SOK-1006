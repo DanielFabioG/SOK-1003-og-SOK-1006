{
  "cells": [
    {
      "cell_type": "raw",
      "metadata": {},
      "source": [
        "---\n",
        "title: \"Mappeoppgave 2 - Innføring av bompenger i  Tromsø: Effekt på bilisters atferd og velferd\"\n",
        "subtitle: \"Fakultet for biovitenskap, fiskeri og økonomi.\"\n",
        "date: last-modified\n",
        "date-format: \"DD-MM-YYYY\"\n",
        "author: \"Kandidatnummer 17, SOK-1006, Høst 2023\"\n",
        "echo: false\n",
        "format:\n",
        "  pdf: \n",
        "    df-print: kable\n",
        "editor: visual\n",
        "warning: false\n",
        "toc: true\n",
        "toc-title: \"Innholdsliste.\"\n",
        "tof: true\n",
        "---"
      ],
      "id": "b248386f"
    },
    {
      "cell_type": "code",
      "metadata": {},
      "source": [
        "# Importing all packages needed for the project\n",
        "import matplotlib.pyplot as plt\n",
        "import numpy as np\n",
        "import sympy as sp\n",
        "import json"
      ],
      "id": "34742ce8",
      "execution_count": null,
      "outputs": []
    },
    {
      "cell_type": "markdown",
      "metadata": {},
      "source": [
        "# 1. Sammendrag\n",
        "\n",
        "## Bakgrunn\n",
        "\n",
        "## Begrunnelse\n",
        "\n",
        "## Utbredelse\n",
        "\n",
        "## Erfaringer\n",
        "\n",
        "# 2. Struktur av redgjørelsen\n",
        "\n",
        "## Kapittel 2 - Turistnæringen i Nord-Norge\n",
        "\n",
        "## Kapittel 3 - Samfunnsøkonomiske effekter av en turistskatt\n",
        "\n",
        "## Kapittel 4 - Konklusjon\n",
        "\n",
        "# 3. Turistnæringen i Nord-Norge\n",
        "\n",
        "## Hotellkapasiteten\n"
      ],
      "id": "7acf5ac0"
    },
    {
      "cell_type": "markdown",
      "metadata": {},
      "source": [
        "## Hotellovernattinger\n"
      ],
      "id": "14ff1ff4"
    },
    {
      "cell_type": "markdown",
      "metadata": {},
      "source": [
        "## Sysselsetting\n"
      ],
      "id": "0d1efdf3"
    },
    {
      "cell_type": "markdown",
      "metadata": {},
      "source": [
        "## Hotelløkonomien\n"
      ],
      "id": "a18dadec"
    },
    {
      "cell_type": "markdown",
      "metadata": {},
      "source": [
        "## Ankomsttider\n"
      ],
      "id": "bf46baaf"
    },
    {
      "cell_type": "markdown",
      "metadata": {},
      "source": [
        "## Hvorfor dette er viktig\n",
        "\n",
        "# 4. Samfunnsøkonomiske effekter av en turistskatt\n",
        "\n",
        "## Noen sentrale forutsetninger\n"
      ],
      "id": "8681f1d8"
    },
    {
      "cell_type": "markdown",
      "metadata": {},
      "source": [
        "## Forventede endringer i markedet etter turistskatt\n"
      ],
      "id": "21867b73"
    },
    {
      "cell_type": "markdown",
      "metadata": {},
      "source": [
        "## Samfunnsøkonomiske effekter\n"
      ],
      "id": "3cf4a5dd"
    },
    {
      "cell_type": "markdown",
      "metadata": {},
      "source": [
        "## Estimat av sentrale parameter\n",
        "\n",
        "## Vurdering\n",
        "\n",
        "# 5. Konklusjon\n",
        "\n",
        "# 6. Referanser\n",
        "\n",
        "## \\# 7. Appendiks for CHATGPT\n",
        "\n",
        "-   \n",
        "\n",
        "-   \n",
        "\n",
        "-   \n",
        "\n",
        "-   \n",
        "\n",
        "-"
      ],
      "id": "d11a90d6"
    }
  ],
  "metadata": {
    "kernelspec": {
      "name": "python3",
      "language": "python",
      "display_name": "Python 3 (ipykernel)"
    }
  },
  "nbformat": 4,
  "nbformat_minor": 5
}