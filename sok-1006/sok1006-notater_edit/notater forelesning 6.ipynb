{
 "cells": [
  {
   "cell_type": "markdown",
   "id": "4f58482a-21bc-4ff5-a423-9a125b6559cc",
   "metadata": {},
   "source": [
    "# SOK-1006 V23\n",
    "## Forelesning 6 - Økonomisk politikk: Prisregulering"
   ]
  },
  {
   "cell_type": "markdown",
   "id": "f99b70fe-a018-47e3-93d0-33bf5377b627",
   "metadata": {},
   "source": [
    "### 1. Et siste ord om avgifter\n",
    "\n",
    "I forelesning 5 har vi basert konklusjoner på ett eksempel. La oss nå undersøke likevekten med en avgift i en generell lineær markedsmodell. Vi skal se på en avgift på t kr per enhet som er ilagt produsentene."
   ]
  },
  {
   "cell_type": "code",
   "execution_count": 1,
   "id": "06c7e87a-a463-4037-8457-7061375fb927",
   "metadata": {},
   "outputs": [],
   "source": [
    "import sympy as sp"
   ]
  },
  {
   "cell_type": "code",
   "execution_count": 2,
   "id": "96148340-34c5-4907-bb06-9a65039a1f43",
   "metadata": {},
   "outputs": [],
   "source": [
    "# definer symbolene som vi kommer til å bruke\n",
    "x,p,t,a,b,A,B=sp.symbols('x p t a b A B', positive=True, real=True)"
   ]
  },
  {
   "cell_type": "code",
   "execution_count": 3,
   "id": "80e24c61-578d-41c8-9c94-fa8efa590e5e",
   "metadata": {},
   "outputs": [],
   "source": [
    "# Etterspørsel\n",
    "\n",
    "def x_d(p,a,b):\n",
    "    return a - b*p\n",
    "\n",
    "#Tilbud\n",
    "\n",
    "def x_s(p,A,B,t):\n",
    "    return -A+B*(p-t)"
   ]
  },
  {
   "cell_type": "markdown",
   "id": "cedbdc77-a503-4207-b7c4-5d4cf6958fe1",
   "metadata": {},
   "source": [
    "**Oppgave**       \n",
    "*(i) Sett opp likevektbetingelsen         \n",
    "(ii) Løs likevektsbetingelsen for pris og kvantum      \n",
    "(iii) Regn ut andelen av avgiften som betales av hver side av markedet      \n",
    "(iv) Finn en betingelse som gjør at konsumenter betaler mer enn 50% av avgiften, og forklar intuisjonen bak ditt funn.*"
   ]
  },
  {
   "cell_type": "code",
   "execution_count": 11,
   "id": "620b143c-858b-4166-a010-4f36dfc2df51",
   "metadata": {},
   "outputs": [
    {
     "data": {
      "text/latex": [
       "$\\displaystyle a - b p = - A + B \\left(p - t\\right)$"
      ],
      "text/plain": [
       "Eq(a - b*p, -A + B*(p - t))"
      ]
     },
     "execution_count": 11,
     "metadata": {},
     "output_type": "execute_result"
    }
   ],
   "source": [
    "# likevekt\n",
    "\n",
    "likev= sp.Eq(x_d(p,a,b),x_s(p,A,B,t))\n",
    "likev"
   ]
  },
  {
   "cell_type": "code",
   "execution_count": 13,
   "id": "793cedfe",
   "metadata": {},
   "outputs": [
    {
     "data": {
      "text/latex": [
       "$\\displaystyle \\frac{A + B t + a}{B + b}$"
      ],
      "text/plain": [
       "(A + B*t + a)/(B + b)"
      ]
     },
     "metadata": {},
     "output_type": "display_data"
    }
   ],
   "source": [
    "eq_1=sp.Eq(x_d(p,a,b), x)\n",
    "eq_2=sp.Eq(x_s(p,A,B,t), x)\n",
    "\n",
    "dict = sp.solve ((eq_1, eq_2), (p,x))\n",
    "display(dict[p])"
   ]
  },
  {
   "cell_type": "code",
   "execution_count": 14,
   "id": "71bfca8e",
   "metadata": {},
   "outputs": [
    {
     "data": {
      "text/latex": [
       "$\\displaystyle \\frac{- A b + B a - B b t}{B + b}$"
      ],
      "text/plain": [
       "(-A*b + B*a - B*b*t)/(B + b)"
      ]
     },
     "metadata": {},
     "output_type": "display_data"
    }
   ],
   "source": [
    "display(dict[x])"
   ]
  },
  {
   "cell_type": "code",
   "execution_count": 25,
   "id": "46290bf4",
   "metadata": {},
   "outputs": [],
   "source": [
    "import numpy as np\n",
    "\n",
    "dict2=sp.lambdify((a,b,A,B,t), \n",
    "    dict[p]\n",
    ")"
   ]
  },
  {
   "cell_type": "code",
   "execution_count": 26,
   "id": "34294c53",
   "metadata": {},
   "outputs": [
    {
     "data": {
      "text/latex": [
       "$\\displaystyle \\frac{B}{B + b}$"
      ],
      "text/plain": [
       "B/(B + b)"
      ]
     },
     "execution_count": 26,
     "metadata": {},
     "output_type": "execute_result"
    }
   ],
   "source": [
    "andel_kons = sp.simplify((dict2(a,b,A,B,t)-dict2(a,b,A,B,0))/t)\n",
    "andel_kons"
   ]
  },
  {
   "cell_type": "code",
   "execution_count": null,
   "id": "62a9c0bd",
   "metadata": {},
   "outputs": [],
   "source": []
  },
  {
   "cell_type": "markdown",
   "id": "538eae62-3e68-403d-aaef-87d4ffb32dc8",
   "metadata": {},
   "source": [
    "### 2. Direkte regulering av priser\n",
    "\n",
    "I Norge er det [Lov om pristiltak](https://lovdata.no/dokument/NL/lov/1993-06-11-66) som gir adgang til å regulere priser direkte. Eksempler på dette er maksimalpris eller minstepris (også kalt pristak og -gulv). Norske myndigheter bruker en maksimalpris på noen områder (for eksempel [legemidler](https://www.regjeringen.no/no/tema/helse-og-omsorg/legemidler/innsikt/prisregulering/id226506/), [drosjeturer](https://konkurransetilsynet.no/tema/drosje/prisregulering-og-maksimalpriser/) og [barnehageplasser](https://www.regjeringen.no/no/aktuelt/200-000-smabarnsfamiliar-far-billigare-barnehage/id2884980/)), men ikke andre (for eksempel [strøm](https://www.stortinget.no/no/Saker-og-publikasjoner/Sporsmal/Skriftlige-sporsmal-og-svar/Skriftlig-sporsmal/?qid=87148&utm_medium=rss&utm_source=www.stortinget.no&utm_campaign=Olje-%20og%20energiministeren%20(besvarte%20skriftlige%20sp%C3%B8rsm%C3%A5l))). \n",
    "\n"
   ]
  },
  {
   "cell_type": "markdown",
   "id": "769fc4e5-682f-4e98-8e30-4d7f8922f304",
   "metadata": {},
   "source": [
    "Effekten av innføring av en maksimalpris finner man i Fig 3.23 i læreboka."
   ]
  },
  {
   "cell_type": "markdown",
   "id": "16a1d6ea-ca0b-420d-aa3d-f571d20e3379",
   "metadata": {},
   "source": [
    "Bruk av minstepriser er noe mindre utbredt i Norge. De brukes for noen fiskeart, hvor minsteprisene er fastsatt av Norges Råfisklag. Begrunnelse for dette finnes i kap. 2.3 i en rapport levert Nærings- og fiskeridepartementet i 2016: [Forenklinger og forbedringer innen førstehåndsomsetningen av fisk](https://www.regjeringen.no/contentassets/2557a67dbb1944a69984936b8f71daef/forenklinger_og_forbedringer_nett.pdf).\n",
    "\n",
    "Det er også innført minstelønn i enkelte bransjer selv om Norge ikke har en generell minstelønn. Dette er fastsatt gjennom tariffavtaler. Se temaet hos [Arbeidstilsynet](https://www.arbeidstilsynet.no/arbeidsforhold/lonn/minstelonn/).\n",
    "\n",
    "Analyse av en innføring av minstpris finner man i Fig 3.24 i boka.\n"
   ]
  }
 ],
 "metadata": {
  "kernelspec": {
   "display_name": "Python 3",
   "language": "python",
   "name": "python3"
  },
  "language_info": {
   "codemirror_mode": {
    "name": "ipython",
    "version": 3
   },
   "file_extension": ".py",
   "mimetype": "text/x-python",
   "name": "python",
   "nbconvert_exporter": "python",
   "pygments_lexer": "ipython3",
   "version": "3.8.10"
  },
  "vscode": {
   "interpreter": {
    "hash": "570feb405e2e27c949193ac68f46852414290d515b0ba6e5d90d076ed2284471"
   }
  }
 },
 "nbformat": 4,
 "nbformat_minor": 5
}
