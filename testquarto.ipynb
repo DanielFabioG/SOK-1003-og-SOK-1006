{
 "cells": [
  {
   "cell_type": "raw",
   "metadata": {},
   "source": [
    "---\n",
    "title: \"Mappeoppgave 1\"\n",
    "author: \"Kandidatnummer\"\n",
    "format: pdf\n",
    "echo: false\n",
    "warning: false\n",
    "---"
   ]
  },
  {
   "attachments": {},
   "cell_type": "markdown",
   "metadata": {},
   "source": [
    "**Kapittel 1 - Innledning**\n",
    "\n",
    "Gi litt bakgrunn i dette kapitlet.         \n",
    "\n",
    "Du vil muligens komme inn på følgende:      \n",
    "- Hva menes med en turistskatt på overnattinger?\n",
    "- Hva er begrunnelsen for dens innføring?\n",
    "- Hvor utbredt er dette tiltaket i andre land/byer?\n",
    "- Hvilke erfaringer har man gjort med en turistskatt?\n",
    "\n",
    "Til slutt vil kapitlet forteller leseren om utredningens struktur."
   ]
  }
 ],
 "metadata": {
  "language_info": {
   "name": "python"
  },
  "orig_nbformat": 4
 },
 "nbformat": 4,
 "nbformat_minor": 2
}
